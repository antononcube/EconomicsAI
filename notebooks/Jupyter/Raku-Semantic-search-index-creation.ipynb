{
 "cells": [
  {
   "cell_type": "markdown",
   "metadata": {},
   "source": [
    "# Semantic search index creation \n",
    "\n",
    "Anton Antonov  \n",
    "April 2025  "
   ]
  },
  {
   "cell_type": "markdown",
   "metadata": {},
   "source": [
    "-----\n",
    "\n",
    "## Introduction"
   ]
  },
  {
   "cell_type": "markdown",
   "metadata": {},
   "source": [
    "This notebook shows how to create an LLM-computed vector database over the paragraphs of relatively large text."
   ]
  },
  {
   "cell_type": "markdown",
   "metadata": {},
   "source": [
    "Here is the Retrieval Augmented Generation (RAG) workflow we consider:\n",
    "\n",
    "- The document collection is ingested.\n",
    "- The documents are split into chunks of relevant sizes.\n",
    "- Large Language Model (LLM) embedding vectors are obtained for all chunks.\n",
    "- A vector database is created with these embedding vectors and stored locally. Multiple local databases can be created.\n",
    "- A relevant local database is imported for use.\n",
    "- An input query is provided to a retrieval system.\n",
    "- The retrieval system retrieves relevant documents based on the query.\n",
    "- The top K documents are selected for further processing.\n",
    "- The model is fine-tuned using the selected documents.\n",
    "- The fine-tuned model generates an answer based on the query.\n",
    "- The output answer is presented to the user."
   ]
  },
  {
   "cell_type": "markdown",
   "metadata": {},
   "source": [
    "Here is a Mermaid-JS component diagram that shows the components of performing the Retrieval Augmented Generation (RAG) workflow:"
   ]
  },
  {
   "cell_type": "markdown",
   "metadata": {},
   "source": [
    "-------\n",
    "\n",
    "## Setup"
   ]
  },
  {
   "cell_type": "code",
   "execution_count": 1,
   "metadata": {},
   "outputs": [],
   "source": [
    "use Data::Importers;\n",
    "use LLM::Functions;\n",
    "use XDG::BaseDirectory :terms;\n",
    "\n",
    "use LLM::RetrievalAugmentedGeneration;\n",
    "use LLM::RetrievalAugmentedGeneration::VectorDatabase;\n",
    "\n",
    "use Data::Reshapers;\n",
    "use Data::Summarizers;\n",
    "use JSON::Fast;"
   ]
  },
  {
   "cell_type": "code",
   "execution_count": 2,
   "metadata": {},
   "outputs": [
    {
     "data": {
      "text/plain": [
       "{\n",
       "  \"num-type\": \"num32\"\n",
       "}"
      ]
     },
     "execution_count": 2,
     "metadata": {},
     "output_type": "execute_result"
    }
   ],
   "source": [
    "my %h = num-type => num32.^name;\n",
    "\n",
    "to-json(%h)"
   ]
  },
  {
   "cell_type": "markdown",
   "metadata": {},
   "source": [
    "------\n",
    "\n",
    "## Ingest text"
   ]
  },
  {
   "cell_type": "markdown",
   "metadata": {},
   "source": [
    "Get training texts file names:"
   ]
  },
  {
   "cell_type": "code",
   "execution_count": 19,
   "metadata": {},
   "outputs": [
    {
     "data": {
      "text/plain": [
       "76"
      ]
     },
     "execution_count": 19,
     "metadata": {},
     "output_type": "execute_result"
    }
   ],
   "source": [
    "my @dirParts = <DialogueWorks/Wolff-Hudson GlennDiesen/Wolff-Hudson GlennDiesen/Sachs RobinsonErhardt/Wolff-Hudson>;\n",
    "\n",
    "my @fileNames;\n",
    "for @dirParts -> $p {\n",
    "    my $dirName = ($*CWD ~ '/texts/' ~ $p).subst('/notebooks/Jupyter');\n",
    "    @fileNames .= append(dir($dirName).grep(*.ends-with('.txt')));\n",
    "}\n",
    "\n",
    "@fileNames.elems"
   ]
  },
  {
   "cell_type": "markdown",
   "metadata": {},
   "source": [
    "Ingest the texts:"
   ]
  },
  {
   "cell_type": "code",
   "execution_count": 20,
   "metadata": {},
   "outputs": [
    {
     "data": {
      "text/plain": [
       "Assoc(Atom((Str)), Atom((Str)), 76)"
      ]
     },
     "execution_count": 20,
     "metadata": {},
     "output_type": "execute_result"
    }
   ],
   "source": [
    "my %texts = @fileNames.map({ $_.basename => slurp($_)});\n",
    "deduce-type(%texts)"
   ]
  },
  {
   "cell_type": "markdown",
   "metadata": {},
   "source": [
    "Show text sizes summary:"
   ]
  },
  {
   "cell_type": "code",
   "execution_count": 21,
   "metadata": {},
   "outputs": [
    {
     "name": "stdout",
     "output_type": "stream",
     "text": [
      "+-----------------------+----------------------+------------------------+\n",
      "| words                 | lines                | chars                  |\n",
      "+-----------------------+----------------------+------------------------+\n",
      "| Min    => 1162        | Min    => 1          | Min    => 6498         |\n",
      "| 1st-Qu => 5554.5      | 1st-Qu => 1          | 1st-Qu => 30211.5      |\n",
      "| Mean   => 8286.460526 | Mean   => 217.776316 | Mean   => 44237.315789 |\n",
      "| Median => 7690.5      | Median => 1          | Median => 41127        |\n",
      "| 3rd-Qu => 9411        | 3rd-Qu => 1          | 3rd-Qu => 50060        |\n",
      "| Max    => 33124       | Max    => 4760       | Max    => 175186       |\n",
      "+-----------------------+----------------------+------------------------+\n"
     ]
    }
   ],
   "source": [
    "sink records-summary(%texts.values.deepmap(*.&text-stats)».Hash)"
   ]
  },
  {
   "cell_type": "markdown",
   "metadata": {},
   "source": [
    "Show a sample of the texts:"
   ]
  },
  {
   "cell_type": "code",
   "execution_count": 22,
   "metadata": {},
   "outputs": [
    {
     "data": {
      "text/html": [
       "<table border=\"1\"><tr><th>0lD_UrtPVpA.txt</th><td>hi everybody today&#39;s th February 13 2025 and our friends Michael Hudson and Richard Wolff are back with us welcome back g</td></tr><tr><th>e3qLvgyRSKc.txt</th><td>how do you see what are the main reasons of what&#39;s happening with the stock market okay um let me Begin by reminding ever</td></tr><tr><th>594yN8rxIJo.txt</th><td>hi everybody today is Thursday April 3r 25 and our friends Michael Hudson and Richard W are back with us welcome back tha</td></tr><tr><th>iS1HQq-29cU.txt</th><td>hi everybody today is Thursday February 27 2025 and our friends Richard wol and Michael Hudson are back with us welcome b</td></tr></table>"
      ]
     },
     "execution_count": 22,
     "metadata": {},
     "output_type": "execute_result"
    }
   ],
   "source": [
    "#% html\n",
    "%texts.head(4)\n",
    "==> { .Hash.deepmap(*.substr(0..120)) }()\n",
    "==> to-html()"
   ]
  },
  {
   "cell_type": "markdown",
   "metadata": {},
   "source": [
    "------\n",
    "\n",
    "## Make vector database"
   ]
  },
  {
   "cell_type": "markdown",
   "metadata": {},
   "source": [
    "**Remark:** The vector database can be made by just specifying the directory with text files. Here we use \"low level\" approach in order to experiment with different text modifications."
   ]
  },
  {
   "cell_type": "markdown",
   "metadata": {},
   "source": [
    "Make an empty vector database object:"
   ]
  },
  {
   "cell_type": "code",
   "execution_count": 23,
   "metadata": {},
   "outputs": [
    {
     "data": {
      "text/plain": [
       "VectorDatabase(:id(\"c4cd86f8-8908-44a4-8a39-9f9e476cba05\"), :name(\"EconomicsAI\"), :elements(0), :sources(0), :precision(num64))"
      ]
     },
     "execution_count": 23,
     "metadata": {},
     "output_type": "execute_result"
    }
   ],
   "source": [
    "my $vdbObj = LLM::RetrievalAugmentedGeneration::VectorDatabase.new(name => 'EconomicsAI');"
   ]
  },
  {
   "cell_type": "markdown",
   "metadata": {},
   "source": [
    "Make an LLM access specification:"
   ]
  },
  {
   "cell_type": "code",
   "execution_count": 38,
   "metadata": {},
   "outputs": [
    {
     "data": {
      "text/plain": [
       "24"
      ]
     },
     "execution_count": 38,
     "metadata": {},
     "output_type": "execute_result"
    }
   ],
   "source": [
    "#my $conf = llm-configuration(\"ChatGPT\", model => 'text-embedding-002');\n",
    "#my $conf = llm-configuration(\"Gemini\");\n",
    "my $conf = llm-configuration(\n",
    "    Whatever,\n",
    "    name => 'LLaMA', \n",
    "    model => 'llama-embedding',\n",
    "    base-url => 'http://127.0.0.1:8080',\n",
    "    embedding-model => 'llama-embedding',\n",
    "    embedding-function => &WWW::LLaMA::Embeddings::LLaMAEmbeddings,\n",
    "    module => 'WWW::LLaMA'\n",
    "    );\n",
    "$conf.Hash.elems"
   ]
  },
  {
   "cell_type": "markdown",
   "metadata": {},
   "source": [
    "Create the semantic index for the vector database object (an profile it):"
   ]
  },
  {
   "cell_type": "code",
   "execution_count": 25,
   "metadata": {},
   "outputs": [
    {
     "name": "stdout",
     "output_type": "stream",
     "text": [
      "Time to make the semantic search index: 2153.971749513 seconds.\n"
     ]
    }
   ],
   "source": [
    "my $tstart = now;\n",
    "$vdbObj.create-semantic-search-index(%texts, method => 'by-max-tokens', max-tokens => 1024, e => $conf, :!batched):embed;\n",
    "my $tend = now;\n",
    "say \"Time to make the semantic search index: {$tend - $tstart} seconds.\";"
   ]
  },
  {
   "cell_type": "markdown",
   "metadata": {},
   "source": [
    "By default the vector database object is exported in a sub-directory of [`$XDG_DATA_HOME`](https://specifications.freedesktop.org/basedir-spec/latest/index.html):"
   ]
  },
  {
   "cell_type": "code",
   "execution_count": 27,
   "metadata": {},
   "outputs": [
    {
     "data": {
      "text/plain": [
       "True"
      ]
     },
     "execution_count": 27,
     "metadata": {},
     "output_type": "execute_result"
    }
   ],
   "source": [
    "# The sub-directory\n",
    "my $dirname = data-home.Str ~ '/raku/LLM/SemanticSearchIndex';\n",
    "\n",
    "# The exported vector database base file name\n",
    "my $basename = \"SemSe-{$vdbObj.id}.json\";\n",
    "\n",
    "# Corresponding IO:Path object\n",
    "my $file = IO::Path.new(:$dirname, :$basename);\n",
    "\n",
    "# Check for existence\n",
    "$file.f"
   ]
  },
  {
   "cell_type": "markdown",
   "metadata": {},
   "source": [
    "The export path is saved in the vector database object:"
   ]
  },
  {
   "cell_type": "code",
   "execution_count": 28,
   "metadata": {},
   "outputs": [
    {
     "data": {
      "text/plain": [
       "True"
      ]
     },
     "execution_count": 28,
     "metadata": {},
     "output_type": "execute_result"
    }
   ],
   "source": [
    "$file.Str eq $vdbObj.location"
   ]
  },
  {
   "cell_type": "markdown",
   "metadata": {},
   "source": [
    "Show a sample of the text chunks:"
   ]
  },
  {
   "cell_type": "code",
   "execution_count": 29,
   "metadata": {},
   "outputs": [
    {
     "data": {
      "text/html": [
       "<ul><li><table border=\"1\"><tr><th>FSA6l97_g8k.txt.6</th><td>countries that are and are that are now subject to the ins sanctions that the American government itself has been putting on now how do you reconcile the fact that the American sanctions that are imposed by the neoliberal the neocons and the neoliberals are a against the profit uh search by the leading American uh sectors Information Technology sectors uh the you could go right to the car manufacturers all the others you could say that the the the sanctions end up penalizing the US economy much more than other countries because while other countries have a short-term Interruption of their supply they have long-term Independence and for America this uh long-term effect and even the short-term effect is to uh take away from the American exporters uh the the leading industrial sectors certainly on the stock exchange to take away this Market it&#39;s lost so what the Americans are doing is isol self ol ating themselves uh we all thought for years that somehow the global majority was going to uh get together and draft a means of becoming independent and helping their own economic interests but it&#39;s the United States that is driving this uh ironically not uh China not Russia uh not these other countries they&#39;re reacting uh to the US that is uh essentially committing policies that are economically suicidal yeah well I&#39;ve noticed that too if you read for example the the statements periodically put out by the United States Chamber of Commerce you get what Michael is talking about they&#39;re very ner they don&#39;t want this fighting with China they they represent large number of Corporations who have put large amounts of investment inside China they don&#39;t want to lose those uh China is the biggest fastest growing Market in the world nobody wants to be excluded every business school teaches you want to make a lot of money you go to where the wages are cheap and the market is growing hello that&#39;s these other parts of the world that&#39;s where all that is going on and and that&#39;s going to outcompete the West sooner or later they say all of that so Michael&#39;s question stands what&#39;s going on and here&#39;s the best that I can do I&#39;m guessing and I&#39;m hoping you or your audience sets me if I&#39;m making a mistake they really don&#39;t see what we&#39;re talking about in other words when I said earlier a bit mockingly they they live in the 1960s and 70s when the dominance of the United States was real maybe there&#39;s more truth to that than my mockery would leave anyone to understand that they really do believe that this is a temporary momentary challenge which</td></tr></table></li><li><table border=\"1\"><tr><th>Uz5-PtkUw9s.txt.11</th><td>do is to look at China and no matter how many times the Chinese tell you we have two goals by the way they&#39;ve been saying this for 50 years we have two goals number one to end a 100 Years of humiliation by which they mean colonialism because even though China as a whole never became a colony parts of it did the the cities along the coast were taken over some by the Germans some by the British it was horrible and they they fought the box of rebellion and they were defeated and all the rest the second goal of China was to raise its people out of the worst poverty the world has ever seen two goals not to be humiliated by foreigners and to raise their standard of living basically okay that&#39;s what they set out to do and they have been the most successful in doing that in the history of the world if you measure the amount of improvement and the time it took to achieve it by those standards they are a roaring success notice I&#39;m not commenting on their internal civil liberties or a whole lot of other qualities that are another conversation the chin but for the United States it cannot see what they&#39;re doing or why they&#39;re doing it they don&#39;t anymore have the link of a great struggle between capitalism and socialism cuz that really doesn&#39;t fit anymore so they have it between democracy and authoritarianism which has no more pull or power of analysis than the old capitalism versus socialism ever did these are ways of handling the rationalization that the United States needs to achieve what for it has become security if you become a world power then security requires you to control the world if you don&#39;t want to be worried about the rest of the world and don&#39;t be as a world power be a real strong power where the hell you are but the United States has 7 to 800 bases around the country that&#39;s the aspirations of a world power and now it has the problem how do you rationalize wanting to be perpetually what no Empire has achieved answer everybody else is a threat to all that is good in the world it is either nonhuman or a real bad civilization or author Arian last point the the irony here which either a Hegel as philosopher or a barold brush uh as a theater writer or a George Carlin as a comedian how you need that level of Brilliance to capture the most authoritarian political structure exists inside every capitalist Corporation the CEO tells everybody else what to do and the people he orders about the employees have absolutely no recall over him whatsoever they don&#39;t vote for him they don&#39;t approve anything he does if they don&#39;t if</td></tr></table></li><li><table border=\"1\"><tr><th>hzIft13pASY.txt.0</th><td>let&#39;s start with your latest article on Empire Decline and costly delusions you talk about this conflict in Ukraine and the complexity of this issue that we witnessing with Russia the West NATO and could you elaborate on this article because I found it so important for our audience well first of all thank you for your kind words about it um I wrote it because of my concern that the level of miscalculations involved in this war have to be explained I mean there are many aspects of this war and I know you have explored them with various guests and and you will continue to do so and that that&#39;s an important service but I want to uh pose and answer a question question and the question is there were terrible miscalculations made and I want to uh explore them let me Begin by explaining what I mean um early in the war and even before the War uh Russia had indicated that it considered this a threat to its security and um safety the possibility that Ukraine would join the economic Union the European Union and also NATO uh and then when they made the decision uh to invade which they did in February of uh of 2022 we know that there was um there were statements there were meetings and there were negotiations early in the war to bring it to an end before it could do terrible damage either to Ukraine or to Russia or to both of them uh but those failed and we know that there was a a role played by British prime minister Boris Johnson who went to Kiev and persuaded zalinski or at least that&#39;s the best sense I can make of it not to sign an agreement not to work something out uh with the Russians um okay then the war begins in Earnest and I know from the United States and from others countries too that the following miscalculations were made and articulated number one that Russia was weak and could be defeated militarily even by a much smaller country Ukraine if it got support from Western Europe and America number two that one of the objectives was to bring I quote bring Russia to its knees and or quote break Russia up into smaller uh National units like Ukraine for example and so on uh then the calculation was made that the Russian Ruble would collapse then the calculation was made that the Russian economy would collapse it could not sustain for any length of time uh a war I could go on but these were all shown to be huge miscalculations why because Russia showed that it can wage a war of attrition that it can do so better than the Ukraine and it can do it better than the Ukraine with Western Arms and Western financial support</td></tr></table></li><li><table border=\"1\"><tr><th>qcTLAX8hF7I.txt.3</th><td>other ideologies of the 20th century that were based on superiority of race or religion uh or some other attribute of European culture that gave the right to dominate. And this is where uh so much goes wrong uh in our uh thinking. Uh these beliefs become deeply embedded. Uh maybe not explicit, maybe they&#39;re even denied. uh after a certain point, but they&#39;re embedded uh in the way that our governments, our states approach international issues. Was it Emanuel&#39;s K&#39;s 300y year birthday last year in Khalinrad and it did strike me some of the universalism behind it. There was some sense of superiority. But what&#39;s interesting with Samuel Hunting, he made this point that uh um that the western countries we we tend to believe that we&#39;ve been ruling the world for these centuries because of our superior ideas and values and ideology. But he made a point that it&#39;s really the mastered more efficient weaponry, controlled the sea lanes and got a head start in the industrial revolution. And yeah, the rest of the world do not uh do do not ignore this that it was our organized violence. But uh but how but it begs the question how will this lead to a different rule by China? Because if if the euroentric world was you all these empires on a small continent um how this kind of formed our way of looking at the world because our political theorists tend to assume that you have this unavoidable geopolitical rivalry that is almost a law of nature. How do you think China would be different? its geopolitical mentality would be different than for example the way the Europeans have behaved because we always assumed it&#39;s all universal. This is also an absolutely fascinating and much debated question I would say but I have my own views which I&#39;ll share and that is that the decisive event in western political culture if I may put it that way is 476 AD uh which is the collapse of the western Roman Empire when Rome is conquered by German Germanic conquerors and at that point it was a long process but with the fall of the western Roman Empire Europe uh fragmented into multiple political entities in fact a complete complex uh remarkable kaleidoscope of political entities of citystates and and kingdoms and dupdoms and uh every conceivable form of uh political organization from the Chinese level up through would be Europeanwide empires that never quite reached their billing like the Holy Roman Empire that Charlemagne in in effect began. But it, as uh was famously said, it was never quite holy, never Roman, and never an empire uh in in the way that it</td></tr></table></li></ul>"
      ]
     },
     "execution_count": 29,
     "metadata": {},
     "output_type": "execute_result"
    }
   ],
   "source": [
    "#% html\n",
    "$vdbObj.items.pairs.pick(4).sort(*.key) ==> to-html()"
   ]
  },
  {
   "cell_type": "markdown",
   "metadata": {},
   "source": [
    "Show dimensions and data type of the obtained vectors:"
   ]
  },
  {
   "cell_type": "code",
   "execution_count": 30,
   "metadata": {},
   "outputs": [
    {
     "name": "stdout",
     "output_type": "stream",
     "text": [
      "dimensions : (1352 2048)\n",
      "data type  : Assoc(Vector(Atom((Str)), 1352), Tuple([(Any) => 1352], 1352), 1352)\n"
     ]
    }
   ],
   "source": [
    "say \"dimensions : \", $vdbObj.vectors.&dimensions;\n",
    "say \"data type  : \", deduce-type($vdbObj.vectors);"
   ]
  },
  {
   "cell_type": "markdown",
   "metadata": {},
   "source": [
    "-----\n",
    "\n",
    "## Summaries"
   ]
  },
  {
   "cell_type": "markdown",
   "metadata": {},
   "source": [
    "Skim vector databases from the default directory and show summaries:"
   ]
  },
  {
   "cell_type": "code",
   "execution_count": 34,
   "metadata": {},
   "outputs": [
    {
     "data": {
      "text/html": [
       "<table border=\"1\"><thead><tr><th>id</th><th>name</th><th>item-count</th><th>dimension</th><th>version</th><th>llm-service</th><th>llm-embedding-model</th><th>created</th></tr></thead><tbody><tr><td>c4cd86f8-8908-44a4-8a39-9f9e476cba05</td><td>EconomicsAI</td><td>1352</td><td>2048</td><td>0</td><td>llama</td><td>llama-embedding</td><td>2025-05-03 23:00:23</td></tr><tr><td>e8042e57-9fea-43fe-b603-b4f4a31a67e1</td><td>FSMComands</td><td>35</td><td>1536</td><td>0</td><td>chatgpt</td><td>text-embedding-3-small</td><td>2024-10-02 03:16:43</td></tr><tr><td>5097c865-7fad-43d9-b7ca-456220d754b7</td><td>words</td><td>20</td><td>768</td><td>0</td><td>gemini</td><td>embedding-001</td><td>2024-09-18 14:08:44</td></tr></tbody></table>"
      ]
     },
     "execution_count": 34,
     "metadata": {},
     "output_type": "execute_result"
    }
   ],
   "source": [
    "#% html\n",
    "my @field-names = <id name item-count dimension version llm-service llm-embedding-model created>;\n",
    "vector-database-objects(f=>'hash', :flat)\n",
    "==> { .head(3) }()\n",
    "==> { $_.map({ $_<created> = $_<file>.IO.created.DateTime.Str.subst('T',' ').substr(^19); $_}).sort(*<created>).reverse }()\n",
    "==> to-html(:@field-names)"
   ]
  },
  {
   "cell_type": "markdown",
   "metadata": {},
   "source": [
    "-------\n",
    "\n",
    "## References"
   ]
  },
  {
   "cell_type": "markdown",
   "metadata": {},
   "source": [
    "### Articles\n",
    "\n",
    "[AA1] Anton Antonov, \n",
    "[\"Outlier detection in a list of numbers\"](https://rakuforprediction.wordpress.com/2022/05/29/outlier-detection-in-a-list-of-numbers/),\n",
    "(2022),\n",
    "[RakuForPrediction at WordPress](https://rakuforprediction.wordpress.com)."
   ]
  },
  {
   "cell_type": "markdown",
   "metadata": {},
   "source": [
    "### Packages\n",
    "\n",
    "[AAp1] Anton Antonov,\n",
    "[WWW::OpenAI Raku package](https://github.com/antononcube/Raku-WWW-OpenAI),\n",
    "(2023),\n",
    "[GitHub/antononcube](https://github.com/antononcube).\n",
    "\n",
    "[AAp2] Anton Antonov,\n",
    "[WWW::LLaMA Raku package](https://github.com/antononcube/Raku-WWW-LLaMA),\n",
    "(2024),\n",
    "[GitHub/antononcube](https://github.com/antononcube).\n",
    "\n",
    "[AAp3] Anton Antonov,\n",
    "[LLM::Functions Raku package](https://github.com/antononcube/Raku-LLM-Functions),\n",
    "(2023-2024),\n",
    "[GitHub/antononcube](https://github.com/antononcube).\n",
    "\n",
    "[AAp4] Anton Antonov,\n",
    "[LLM::Prompts Raku package](https://github.com/antononcube/Raku-LLM-Prompts),\n",
    "(2023-2024),\n",
    "[GitHub/antononcube](https://github.com/antononcube).\n",
    "\n",
    "[AAp5] Anton Antonov,\n",
    "[ML::FindTextualAnswer Raku package](https://github.com/antononcube/Raku-ML-FindTextualAnswer),\n",
    "(2023-2024),\n",
    "[GitHub/antononcube](https://github.com/antononcube).\n",
    "\n",
    "[AAp6] Anton Antonov,\n",
    "[Math::Nearest Raku package](https://github.com/antononcube/Raku-Math-Nearest),\n",
    "(2024),\n",
    "[GitHub/antononcube](https://github.com/antononcube).\n",
    "\n",
    "[AAp7] Anton Antonov,\n",
    "[Math::DistanceFunctions Raku package](https://github.com/antononcube/Raku-Math-DistanceFunctions),\n",
    "(2024),\n",
    "[GitHub/antononcube](https://github.com/antononcube).\n",
    "\n",
    "[AAp8] Anton Antonov,\n",
    "[Statistics::OutlierIdentifiers Raku package](https://github.com/antononcube/Raku-Statistics-OutlierIdentifiers),\n",
    "(2022),\n",
    "[GitHub/antononcube](https://github.com/antononcube)."
   ]
  },
  {
   "cell_type": "markdown",
   "metadata": {},
   "source": [
    "## Video channels\n",
    "\n",
    "[GDc1] Glenn Diesen,\n",
    "[\"The Greater Eurasia Podcast\"](https://www.youtube.com/@GDiesen1),\n",
    "(2011-2025).\n",
    "\n",
    "[NAc1] Nima Alkhorshid,\n",
    "[\"Dialogue works\"](https://www.youtube.com/@dialogueworks01),\n",
    "(2021-2025).\n",
    "\n",
    "[REc1] Robinson Erhard,\n",
    "[\"Robinson's Podcast\"](https://www.youtube.com/@robinsonerhardt),\n",
    "(2022-2025)."
   ]
  }
 ],
 "metadata": {
  "kernelspec": {
   "display_name": "RakuChatbook",
   "language": "raku",
   "name": "raku"
  },
  "language_info": {
   "file_extension": ".raku",
   "mimetype": "text/x-raku",
   "name": "raku",
   "version": "6.d"
  }
 },
 "nbformat": 4,
 "nbformat_minor": 2
}
