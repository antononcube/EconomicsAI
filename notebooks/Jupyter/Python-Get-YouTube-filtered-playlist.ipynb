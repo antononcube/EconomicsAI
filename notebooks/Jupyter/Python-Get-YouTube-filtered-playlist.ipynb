{
 "cells": [
  {
   "metadata": {},
   "cell_type": "markdown",
   "source": [
    "-----\n",
    "\n",
    "## Load package(s)"
   ],
   "id": "5cd9acca644306c3"
  },
  {
   "cell_type": "code",
   "id": "c31e4cd6",
   "metadata": {},
   "source": [
    "from pytubefix import Playlist, YouTube"
   ],
   "outputs": [],
   "execution_count": null
  },
  {
   "cell_type": "code",
   "id": "3b558587",
   "metadata": {},
   "source": [
    "yt = YouTube('http://youtube.com/watch?v=oWi8ZncK9Tw')"
   ],
   "outputs": [],
   "execution_count": null
  },
  {
   "cell_type": "code",
   "id": "97c0f3c2",
   "metadata": {},
   "source": [
    "print(yt.captions)\n",
    "print(yt.title)\n",
    "print(yt.publish_date)"
   ],
   "outputs": [],
   "execution_count": null
  },
  {
   "cell_type": "markdown",
   "id": "696d4215",
   "metadata": {},
   "source": [
    "----\n",
    "\n",
    "## Playlist"
   ]
  },
  {
   "cell_type": "code",
   "id": "a96d5b08",
   "metadata": {},
   "source": [
    "# Dialogue works\n",
    "channelName = \"DialogueWorks\"\n",
    "URL_PLAYLIST = \"https://www.youtube.com/playlist?list=PLzImU_KHY9-JjAIg0AZXxHaMhJD6UXfNj\"\n",
    "\n",
    "# channelName = \"NewAtlas\"\n",
    "# URL_PLAYLIST = \"https://www.youtube.com/playlist?list=PLkhlYgGXRhhxHzOmBH10Cp0nGBWjLATjc\"\n",
    "\n",
    "# Retrieve URLs of videos from playlist\n",
    "playlist = Playlist(URL_PLAYLIST)\n",
    "print('Number Of Videos In playlist: %s' % len(playlist.video_urls))\n",
    "\n",
    "urls = []\n",
    "for url in playlist:\n",
    "    urls.append(url)"
   ],
   "outputs": [],
   "execution_count": null
  },
  {
   "cell_type": "code",
   "id": "6735a2b1",
   "metadata": {},
   "source": [
    "ytObjects = []\n",
    "for u in urls:\n",
    "    ytObjects.append(YouTube(u))"
   ],
   "outputs": [],
   "execution_count": null
  },
  {
   "cell_type": "code",
   "id": "bd44d624",
   "metadata": {},
   "source": [
    "titles = [obj.title for obj in ytObjects]\n",
    "len(titles)"
   ],
   "outputs": [],
   "execution_count": null
  },
  {
   "cell_type": "code",
   "id": "0868d170",
   "metadata": {},
   "source": [
    "focusIndexes = []\n",
    "k = 0\n",
    "for t in titles:\n",
    "    if \"Wolff\" in t or 'Hundson' in t:\n",
    "        focusIndexes.append(k)\n",
    "    k = k + 1 \n",
    "\n",
    "len(focusIndexes)"
   ],
   "outputs": [],
   "execution_count": null
  },
  {
   "cell_type": "code",
   "id": "86674c2e",
   "metadata": {},
   "source": [
    "ytObjectsFiltered = [ ytObjects[i] for i in focusIndexes ]\n",
    "len(ytObjectsFiltered)"
   ],
   "outputs": [],
   "execution_count": null
  },
  {
   "cell_type": "code",
   "id": "8bd814aa",
   "metadata": {},
   "source": [
    "ytObjectsFiltered[0].title"
   ],
   "outputs": [],
   "execution_count": null
  },
  {
   "cell_type": "code",
   "id": "bc07b97b",
   "metadata": {},
   "source": [
    "ytObjectsFiltered[0].watch_url"
   ],
   "outputs": [],
   "execution_count": null
  },
  {
   "cell_type": "code",
   "id": "21ef5876",
   "metadata": {},
   "source": [
    "urlsFiltered = [ obj.watch_url for obj in ytObjectsFiltered ]\n",
    "len(urlsFiltered)"
   ],
   "outputs": [],
   "execution_count": null
  },
  {
   "cell_type": "code",
   "id": "1311b85a",
   "metadata": {},
   "source": [
    "urlToTitleRules = {obj.watch_url.split(\"v=\")[1] : obj.title for obj in ytObjectsFiltered}\n",
    "len(urlToTitleRules)"
   ],
   "outputs": [],
   "execution_count": null
  },
  {
   "cell_type": "code",
   "id": "431107cb",
   "metadata": {},
   "source": [
    "list(urlToTitleRules.items())[0:5]"
   ],
   "outputs": [],
   "execution_count": null
  },
  {
   "cell_type": "markdown",
   "id": "eca1f618",
   "metadata": {},
   "source": [
    "-------\n",
    "\n",
    "## Get YouTube transcripts"
   ]
  },
  {
   "cell_type": "code",
   "id": "a2572a41",
   "metadata": {},
   "source": [
    "from youtube_transcript_api import YouTubeTranscriptApi\n",
    "\n",
    "def get_transcript(video_url):\n",
    "    try:\n",
    "        # Extract the video ID from the URL\n",
    "        video_id = video_url.split('v=')[1]\n",
    "\n",
    "        # Retrieve the transcript for the video\n",
    "        transcript = YouTubeTranscriptApi.get_transcript(video_id, languages = (\"en\",))\n",
    "\n",
    "        # Concatenate the text from each transcript segment\n",
    "        transcript_text = ' '.join([segment['text'] for segment in transcript])\n",
    "\n",
    "        return transcript_text\n",
    "\n",
    "    except Exception as e:\n",
    "        print(f'An error occurred: {str(e)}')"
   ],
   "outputs": [],
   "execution_count": null
  },
  {
   "cell_type": "code",
   "id": "f66fa910",
   "metadata": {},
   "source": [
    "transcripts = { u : get_transcript(u) for u in urlsFiltered}\n",
    "print(len(transcripts))"
   ],
   "outputs": [],
   "execution_count": null
  },
  {
   "cell_type": "code",
   "id": "5863145c",
   "metadata": {},
   "source": [
    "list(transcripts.items())[0][1]"
   ],
   "outputs": [],
   "execution_count": null
  },
  {
   "cell_type": "code",
   "id": "143c599c",
   "metadata": {},
   "source": [
    "list(transcripts.items())[0]"
   ],
   "outputs": [],
   "execution_count": null
  },
  {
   "cell_type": "code",
   "id": "1adbc417",
   "metadata": {},
   "source": [
    "docs = { u.split(\"v=\")[1] : t for u, t in transcripts.items() }\n",
    "len(docs)"
   ],
   "outputs": [],
   "execution_count": null
  },
  {
   "cell_type": "markdown",
   "id": "5305a512",
   "metadata": {},
   "source": [
    "------\n",
    "\n",
    "## Export"
   ]
  },
  {
   "cell_type": "code",
   "id": "3a9ff953",
   "metadata": {},
   "source": "dirName = \"./DialogueWorks\"",
   "outputs": [],
   "execution_count": null
  },
  {
   "cell_type": "code",
   "id": "467b762e",
   "metadata": {},
   "source": [
    "for p in list(docs.items()):\n",
    "    fileName = dirName + \"/\" + p[0] + \".txt\"\n",
    "    with open(fileName, 'w') as f:\n",
    "        f.write(p[1])"
   ],
   "outputs": [],
   "execution_count": null
  }
 ],
 "metadata": {
  "kernelspec": {
   "display_name": "SciPyCentric",
   "language": "python",
   "name": "python3"
  },
  "language_info": {
   "codemirror_mode": {
    "name": "ipython",
    "version": 3
   },
   "file_extension": ".py",
   "mimetype": "text/x-python",
   "name": "python",
   "nbconvert_exporter": "python",
   "pygments_lexer": "ipython3",
   "version": "3.12.2"
  }
 },
 "nbformat": 4,
 "nbformat_minor": 5
}
