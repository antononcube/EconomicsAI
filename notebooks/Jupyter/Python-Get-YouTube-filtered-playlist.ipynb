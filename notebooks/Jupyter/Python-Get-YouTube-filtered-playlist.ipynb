{
 "cells": [
  {
   "cell_type": "markdown",
   "id": "5cd9acca644306c3",
   "metadata": {},
   "source": [
    "-----\n",
    "\n",
    "## Setup"
   ]
  },
  {
   "cell_type": "markdown",
   "id": "5bbbc79d",
   "metadata": {},
   "source": [
    "### Load package(s)"
   ]
  },
  {
   "cell_type": "code",
   "execution_count": 22,
   "id": "c31e4cd6",
   "metadata": {},
   "outputs": [],
   "source": [
    "from pytubefix import Playlist, YouTube\n",
    "\n",
    "from youtube_transcript_api import YouTubeTranscriptApi\n",
    "\n",
    "import os\n"
   ]
  },
  {
   "cell_type": "markdown",
   "id": "f140b281",
   "metadata": {},
   "source": [
    "### Definitions"
   ]
  },
  {
   "cell_type": "code",
   "execution_count": 15,
   "id": "f0ff5e24",
   "metadata": {},
   "outputs": [],
   "source": [
    "def list_files(directory):\n",
    "    try:\n",
    "        # Get list of all files in the directory\n",
    "        files = [f for f in os.listdir(directory) if os.path.isfile(os.path.join(directory, f))]\n",
    "        return files\n",
    "    except FileNotFoundError:\n",
    "        print(f\"Directory '{directory}' not found.\")\n",
    "        return []\n",
    "    except PermissionError:\n",
    "        print(f\"Permission denied for directory '{directory}'.\")\n",
    "        return []\n"
   ]
  },
  {
   "cell_type": "code",
   "execution_count": 23,
   "id": "c669a0f9",
   "metadata": {},
   "outputs": [],
   "source": [
    "def get_transcript(video_url):\n",
    "    try:\n",
    "        # Extract the video ID from the URL\n",
    "        video_id = video_url.split('v=')[1]\n",
    "\n",
    "        # Retrieve the transcript for the video\n",
    "        transcript = YouTubeTranscriptApi.get_transcript(video_id, languages = (\"en\",))\n",
    "\n",
    "        # Concatenate the text from each transcript segment\n",
    "        transcript_text = ' '.join([segment['text'] for segment in transcript])\n",
    "\n",
    "        return transcript_text\n",
    "\n",
    "    except Exception as e:\n",
    "        print(f'An error occurred: {str(e)}')"
   ]
  },
  {
   "cell_type": "markdown",
   "id": "c5a2d126",
   "metadata": {},
   "source": [
    "----\n",
    "\n",
    "## Check"
   ]
  },
  {
   "cell_type": "code",
   "execution_count": 2,
   "id": "3b558587",
   "metadata": {},
   "outputs": [],
   "source": [
    "yt = YouTube('https://www.youtube.com/watch?v=0LN-Y-kEgmY')"
   ]
  },
  {
   "cell_type": "code",
   "execution_count": 3,
   "id": "97c0f3c2",
   "metadata": {},
   "outputs": [
    {
     "name": "stdout",
     "output_type": "stream",
     "text": [
      "{'a.en': <Caption lang=\"English (auto-generated)\" code=\"a.en\">}\n",
      "Michael Hudson: The Industrial Capitalism of China and Russia versus US Neoliberalism\n",
      "2025-04-20 05:00:02-07:00\n"
     ]
    }
   ],
   "source": [
    "print(yt.captions)\n",
    "print(yt.title)\n",
    "print(yt.publish_date)"
   ]
  },
  {
   "cell_type": "markdown",
   "id": "c5e584a7",
   "metadata": {},
   "source": [
    "----- \n",
    "\n",
    "## Manual playlist"
   ]
  },
  {
   "cell_type": "code",
   "execution_count": null,
   "id": "ff48f4c6",
   "metadata": {},
   "outputs": [],
   "source": [
    "urlsFiltered = ['ODbGERF32U8', '96r3ahP0N6c', '0LN-Y-kEgmY', 'bTnVECM81H0', 'BBMgw95gR-8']"
   ]
  },
  {
   "cell_type": "markdown",
   "id": "696d4215",
   "metadata": {},
   "source": [
    "----\n",
    "\n",
    "## Playlist"
   ]
  },
  {
   "cell_type": "code",
   "execution_count": 4,
   "id": "a96d5b08",
   "metadata": {},
   "outputs": [
    {
     "name": "stdout",
     "output_type": "stream",
     "text": [
      "Number Of Videos In playlist: 1227\n"
     ]
    }
   ],
   "source": [
    "# Dialogue works\n",
    "# channelName = \"DialogueWorks\"\n",
    "URL_PLAYLIST = \"https://www.youtube.com/playlist?list=PLzImU_KHY9-JjAIg0AZXxHaMhJD6UXfNj\"\n",
    "\n",
    "# channelName = \"NewAtlas\"\n",
    "# URL_PLAYLIST = \"https://www.youtube.com/playlist?list=PLkhlYgGXRhhxHzOmBH10Cp0nGBWjLATjc\"\n",
    "\n",
    "# channelName = \"GlennDiesen\"\n",
    "# URL_PLAYLIST = \"https://www.youtube.com/@GDiesen1/videos\"\n",
    "\n",
    "# Retrieve URLs of videos from playlist\n",
    "playlist = Playlist(URL_PLAYLIST)\n",
    "print('Number Of Videos In playlist: %s' % len(playlist.video_urls))\n",
    "\n",
    "urls = []\n",
    "for url in playlist:\n",
    "    urls.append(url)"
   ]
  },
  {
   "cell_type": "code",
   "execution_count": 5,
   "id": "6735a2b1",
   "metadata": {},
   "outputs": [],
   "source": [
    "ytObjects = []\n",
    "for u in urls:\n",
    "    ytObjects.append(YouTube(u))"
   ]
  },
  {
   "cell_type": "code",
   "execution_count": 6,
   "id": "bd44d624",
   "metadata": {},
   "outputs": [
    {
     "data": {
      "text/plain": [
       "1227"
      ]
     },
     "execution_count": 6,
     "metadata": {},
     "output_type": "execute_result"
    }
   ],
   "source": [
    "titles = [obj.title for obj in ytObjects]\n",
    "len(titles)"
   ]
  },
  {
   "cell_type": "code",
   "execution_count": 7,
   "id": "0868d170",
   "metadata": {},
   "outputs": [
    {
     "data": {
      "text/plain": [
       "70"
      ]
     },
     "execution_count": 7,
     "metadata": {},
     "output_type": "execute_result"
    }
   ],
   "source": [
    "focusIndexes = []\n",
    "k = 0\n",
    "for t in titles:\n",
    "    if \"Wolff\" in t or 'Hundson' in t:\n",
    "        focusIndexes.append(k)\n",
    "    k = k + 1 \n",
    "\n",
    "len(focusIndexes)"
   ]
  },
  {
   "cell_type": "code",
   "execution_count": 8,
   "id": "86674c2e",
   "metadata": {},
   "outputs": [
    {
     "data": {
      "text/plain": [
       "70"
      ]
     },
     "execution_count": 8,
     "metadata": {},
     "output_type": "execute_result"
    }
   ],
   "source": [
    "ytObjectsFiltered = [ ytObjects[i] for i in focusIndexes ]\n",
    "len(ytObjectsFiltered)"
   ]
  },
  {
   "cell_type": "code",
   "execution_count": 9,
   "id": "8bd814aa",
   "metadata": {},
   "outputs": [
    {
     "data": {
      "text/plain": [
       "'Richard Wolff and Michael Hudson: Is Trump Winning?'"
      ]
     },
     "execution_count": 9,
     "metadata": {},
     "output_type": "execute_result"
    }
   ],
   "source": [
    "ytObjectsFiltered[0].title"
   ]
  },
  {
   "cell_type": "code",
   "execution_count": 10,
   "id": "bc07b97b",
   "metadata": {},
   "outputs": [
    {
     "data": {
      "text/plain": [
       "'https://youtube.com/watch?v=NNHBd5t-rk0'"
      ]
     },
     "execution_count": 10,
     "metadata": {},
     "output_type": "execute_result"
    }
   ],
   "source": [
    "ytObjectsFiltered[0].watch_url"
   ]
  },
  {
   "cell_type": "code",
   "execution_count": 11,
   "id": "21ef5876",
   "metadata": {},
   "outputs": [
    {
     "data": {
      "text/plain": [
       "70"
      ]
     },
     "execution_count": 11,
     "metadata": {},
     "output_type": "execute_result"
    }
   ],
   "source": [
    "urlsFiltered = [ obj.watch_url for obj in ytObjectsFiltered ]\n",
    "len(urlsFiltered)"
   ]
  },
  {
   "cell_type": "code",
   "execution_count": 12,
   "id": "1311b85a",
   "metadata": {},
   "outputs": [
    {
     "data": {
      "text/plain": [
       "70"
      ]
     },
     "execution_count": 12,
     "metadata": {},
     "output_type": "execute_result"
    }
   ],
   "source": [
    "urlToTitleRules = {obj.watch_url.split(\"v=\")[1] : obj.title for obj in ytObjectsFiltered}\n",
    "len(urlToTitleRules)"
   ]
  },
  {
   "cell_type": "code",
   "execution_count": 13,
   "id": "431107cb",
   "metadata": {},
   "outputs": [
    {
     "data": {
      "text/plain": [
       "[('NNHBd5t-rk0', 'Richard Wolff and Michael Hudson: Is Trump Winning?'),\n",
       " ('4G98DeCZcT8',\n",
       "  'Richard Wolff & Michael Hudson: Trump’s Trade War Collapse: How China Forced a U.S. Retreat'),\n",
       " ('u6y2oUC4ROg',\n",
       "  'Richard Wolff & Michael Hudson Unleash on Trump’s Trade Claims | Brutal Takedown'),\n",
       " ('NGfr2Xu8qt4',\n",
       "  'Richard D. Wolff: Trump and the Fall of the American Empire'),\n",
       " ('oIJx9l6HqjA',\n",
       "  'Richard D. Wolff and Michael Hudson: China Strikes Back as Trump Ignites New Tariff War!')]"
      ]
     },
     "execution_count": 13,
     "metadata": {},
     "output_type": "execute_result"
    }
   ],
   "source": [
    "list(urlToTitleRules.items())[0:5]"
   ]
  },
  {
   "cell_type": "markdown",
   "id": "eca1f618",
   "metadata": {},
   "source": [
    "-------\n",
    "\n",
    "## Get YouTube transcripts"
   ]
  },
  {
   "cell_type": "code",
   "execution_count": 35,
   "id": "0c64337f",
   "metadata": {},
   "outputs": [
    {
     "data": {
      "text/plain": [
       "67"
      ]
     },
     "execution_count": 35,
     "metadata": {},
     "output_type": "execute_result"
    }
   ],
   "source": [
    "previously_ingested = list_files('../../texts/DialogueWorks/Wolff-Hudson')\n",
    "previously_ingested = [x.replace(\".txt\", \"\") for x in previously_ingested]\n",
    "\n",
    "len(previously_ingested)"
   ]
  },
  {
   "cell_type": "code",
   "execution_count": 28,
   "id": "a2572a41",
   "metadata": {},
   "outputs": [
    {
     "data": {
      "text/plain": [
       "3"
      ]
     },
     "execution_count": 28,
     "metadata": {},
     "output_type": "execute_result"
    }
   ],
   "source": [
    "urlsFiltered2 = [x for x in urlsFiltered if x.replace(\"https://youtube.com/watch?v=\", \"\") not in previously_ingested]\n",
    "len(urlsFiltered2)"
   ]
  },
  {
   "cell_type": "code",
   "execution_count": 37,
   "id": "f66fa910",
   "metadata": {},
   "outputs": [
    {
     "name": "stdout",
     "output_type": "stream",
     "text": [
      "3\n"
     ]
    }
   ],
   "source": [
    "transcripts = { u : get_transcript(u) for u in urlsFiltered2}\n",
    "print(len(transcripts))"
   ]
  },
  {
   "cell_type": "code",
   "execution_count": null,
   "id": "5863145c",
   "metadata": {},
   "outputs": [],
   "source": [
    "list(transcripts.items())[0][1]"
   ]
  },
  {
   "cell_type": "code",
   "execution_count": null,
   "id": "143c599c",
   "metadata": {},
   "outputs": [],
   "source": [
    "list(transcripts.items())[0]"
   ]
  },
  {
   "cell_type": "code",
   "execution_count": 31,
   "id": "1adbc417",
   "metadata": {},
   "outputs": [
    {
     "data": {
      "text/plain": [
       "3"
      ]
     },
     "execution_count": 31,
     "metadata": {},
     "output_type": "execute_result"
    }
   ],
   "source": [
    "docs = { u.split(\"v=\")[1] : t for u, t in transcripts.items() }\n",
    "len(docs)"
   ]
  },
  {
   "cell_type": "markdown",
   "id": "5305a512",
   "metadata": {},
   "source": [
    "------\n",
    "\n",
    "## Export"
   ]
  },
  {
   "cell_type": "code",
   "execution_count": 38,
   "id": "3a9ff953",
   "metadata": {},
   "outputs": [],
   "source": [
    "dirName = \"../../texts/DialogueWorks/New\""
   ]
  },
  {
   "cell_type": "code",
   "execution_count": 39,
   "id": "467b762e",
   "metadata": {},
   "outputs": [],
   "source": [
    "for p in list(docs.items()):\n",
    "    fileName = dirName + \"/\" + p[0] + \".txt\"\n",
    "    with open(fileName, 'w') as f:\n",
    "        f.write(p[1])"
   ]
  }
 ],
 "metadata": {
  "kernelspec": {
   "display_name": "SciPyCentric",
   "language": "python",
   "name": "python3"
  },
  "language_info": {
   "codemirror_mode": {
    "name": "ipython",
    "version": 3
   },
   "file_extension": ".py",
   "mimetype": "text/x-python",
   "name": "python",
   "nbconvert_exporter": "python",
   "pygments_lexer": "ipython3",
   "version": "3.12.2"
  }
 },
 "nbformat": 4,
 "nbformat_minor": 5
}
